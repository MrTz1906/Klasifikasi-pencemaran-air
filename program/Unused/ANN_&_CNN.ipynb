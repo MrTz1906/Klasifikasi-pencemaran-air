{
  "nbformat": 4,
  "nbformat_minor": 5,
  "metadata": {
    "colab": {
      "name": "ANN & CNN.ipynb",
      "provenance": []
    },
    "kernelspec": {
      "display_name": "Python 3",
      "language": "python",
      "name": "python3"
    },
    "language_info": {
      "codemirror_mode": {
        "name": "ipython",
        "version": 3
      },
      "file_extension": ".py",
      "mimetype": "text/x-python",
      "name": "python",
      "nbconvert_exporter": "python",
      "pygments_lexer": "ipython3",
      "version": "3.7.10"
    }
  },
  "cells": [
    {
      "cell_type": "code",
      "metadata": {
        "id": "a5a32a3f"
      },
      "source": [
        "import tensorflow as tf\n",
        "from tensorflow.keras import datasets, layers, models\n",
        "import numpy as np\n",
        "import pandas as pd\n",
        "import random\n",
        "import os\n",
        "import glob\n",
        "import cv2"
      ],
      "id": "a5a32a3f",
      "execution_count": null,
      "outputs": []
    },
    {
      "cell_type": "code",
      "metadata": {
        "id": "8bbbe508"
      },
      "source": [
        "def resize(path, img_height, img_width):\n",
        "    img = cv2.imread(path)\n",
        "    resized = cv2.resize(img, (img_height, img_width))\n",
        "    return resized"
      ],
      "id": "8bbbe508",
      "execution_count": null,
      "outputs": []
    },
    {
      "cell_type": "code",
      "metadata": {
        "colab": {
          "base_uri": "https://localhost:8080/"
        },
        "id": "944sJw4NeBES",
        "outputId": "1131bdbe-61ea-4207-8a9c-4ba5dde7d284"
      },
      "source": [
        "from google.colab import drive\n",
        "drive.mount('/content/drive')"
      ],
      "id": "944sJw4NeBES",
      "execution_count": null,
      "outputs": [
        {
          "output_type": "stream",
          "text": [
            "Mounted at /content/drive\n"
          ],
          "name": "stdout"
        }
      ]
    },
    {
      "cell_type": "code",
      "metadata": {
        "id": "d8dbfe9b"
      },
      "source": [
        "\n",
        "\n",
        "def get_data():\n",
        "    train_dir = \"/content/drive/MyDrive/data/MP_data/\"\n",
        "    X = []\n",
        "    y = []\n",
        "    \n",
        "    for j in range(10):\n",
        "        print('Load folder c{}'.format(j))\n",
        "        path = os.path.join(train_dir, 'c' + str(j), '*.jpg')\n",
        "        files = glob.glob(path)\n",
        "        for fl in files:\n",
        "            flbase = os.path.basename(fl)\n",
        "            img = resize(fl, 32, 32)\n",
        "            X.append(img)\n",
        "            y.append(j)\n",
        "    return X,y"
      ],
      "id": "d8dbfe9b",
      "execution_count": null,
      "outputs": []
    },
    {
      "cell_type": "code",
      "metadata": {
        "colab": {
          "base_uri": "https://localhost:8080/"
        },
        "id": "54e1b71a",
        "outputId": "d4869237-b256-4fbf-c961-2d81b9aa86f4"
      },
      "source": [
        "X, y = get_data()"
      ],
      "id": "54e1b71a",
      "execution_count": null,
      "outputs": [
        {
          "output_type": "stream",
          "text": [
            "Load folder c0\n",
            "Load folder c1\n",
            "Load folder c2\n",
            "Load folder c3\n",
            "Load folder c4\n",
            "Load folder c5\n",
            "Load folder c6\n",
            "Load folder c7\n",
            "Load folder c8\n",
            "Load folder c9\n"
          ],
          "name": "stdout"
        }
      ]
    },
    {
      "cell_type": "code",
      "metadata": {
        "colab": {
          "base_uri": "https://localhost:8080/"
        },
        "id": "2c221cd4",
        "outputId": "898d5a88-302e-4c4c-99e4-98f6294b0d9c"
      },
      "source": [
        "#converted images into numpy array\n",
        "X = np.asarray(X)\n",
        "y = np.asarray(y)\n",
        "print(X.shape,y.shape)"
      ],
      "id": "2c221cd4",
      "execution_count": null,
      "outputs": [
        {
          "output_type": "stream",
          "text": [
            "(5105, 32, 32, 3) (5105,)\n"
          ],
          "name": "stdout"
        }
      ]
    },
    {
      "cell_type": "code",
      "metadata": {
        "colab": {
          "base_uri": "https://localhost:8080/",
          "height": 283
        },
        "id": "9d1e0077",
        "outputId": "55495aba-37f9-4476-a0e4-49e26ea8513d"
      },
      "source": [
        "import matplotlib.pyplot as plt\n",
        "plt.imshow(X[100])"
      ],
      "id": "9d1e0077",
      "execution_count": null,
      "outputs": [
        {
          "output_type": "execute_result",
          "data": {
            "text/plain": [
              "<matplotlib.image.AxesImage at 0x7f4d2126f790>"
            ]
          },
          "metadata": {
            "tags": []
          },
          "execution_count": 10
        },
        {
          "output_type": "display_data",
          "data": {
            "image/png": "[encoded data removed]",
            "text/plain": [
              "<Figure size 432x288 with 1 Axes>"
            ]
          },
          "metadata": {
            "tags": []
          }
        }
      ]
    },
    {
      "cell_type": "code",
      "metadata": {
        "id": "81540de8"
      },
      "source": [
        "from sklearn.model_selection import train_test_split\n",
        "X_train, X_val, y_train, y_val = train_test_split(X, y, test_size=0.3, random_state=42)"
      ],
      "id": "81540de8",
      "execution_count": null,
      "outputs": []
    },
    {
      "cell_type": "code",
      "metadata": {
        "colab": {
          "base_uri": "https://localhost:8080/"
        },
        "id": "16356456",
        "outputId": "058d62ca-2414-4d05-c099-69f57406047d"
      },
      "source": [
        "#X_train = np.reshape(X_train, (X_train.shape[0], -1))\n",
        "#X_val = np.reshape(X_val, (X_val.shape[0], -1))\n",
        "print('Training data shape: ', X_train.shape)\n",
        "print('Validation data shape: ', X_val.shape)"
      ],
      "id": "16356456",
      "execution_count": null,
      "outputs": [
        {
          "output_type": "stream",
          "text": [
            "Training data shape:  (3573, 32, 32, 3)\n",
            "Validation data shape:  (1532, 32, 32, 3)\n"
          ],
          "name": "stdout"
        }
      ]
    },
    {
      "cell_type": "code",
      "metadata": {
        "id": "566d9181"
      },
      "source": [
        "X_train = X_train / 255.0\n",
        "X_val = X_val / 255.0"
      ],
      "id": "566d9181",
      "execution_count": null,
      "outputs": []
    },
    {
      "cell_type": "code",
      "metadata": {
        "colab": {
          "base_uri": "https://localhost:8080/"
        },
        "id": "d52b320d",
        "outputId": "967360e4-8034-4871-853f-5f31d2f2ac1e"
      },
      "source": [
        "print(y_train.shape)"
      ],
      "id": "d52b320d",
      "execution_count": null,
      "outputs": [
        {
          "output_type": "stream",
          "text": [
            "(3573,)\n"
          ],
          "name": "stdout"
        }
      ]
    },
    {
      "cell_type": "code",
      "metadata": {
        "colab": {
          "base_uri": "https://localhost:8080/"
        },
        "id": "db6eaefa",
        "outputId": "96fe42aa-9e2f-4009-9f39-6daac304302a"
      },
      "source": [
        "y_train"
      ],
      "id": "db6eaefa",
      "execution_count": null,
      "outputs": [
        {
          "output_type": "execute_result",
          "data": {
            "text/plain": [
              "array([5, 1, 6, ..., 5, 6, 1])"
            ]
          },
          "metadata": {
            "tags": []
          },
          "execution_count": 27
        }
      ]
    },
    {
      "cell_type": "code",
      "metadata": {
        "colab": {
          "base_uri": "https://localhost:8080/"
        },
        "id": "569997a7",
        "outputId": "8c7bf4b8-81d1-4475-c38f-871fa5823c55"
      },
      "source": [
        "X_train"
      ],
      "id": "569997a7",
      "execution_count": null,
      "outputs": [
        {
          "output_type": "execute_result",
          "data": {
            "text/plain": [
              "array([[[[0.07843137, 0.45882353, 0.62745098],\n",
              "         [0.38039216, 0.61960784, 0.6745098 ],\n",
              "         [0.43921569, 0.65882353, 0.70196078],\n",
              "         ...,\n",
              "         [0.90980392, 0.8745098 , 0.83529412],\n",
              "         [0.90588235, 0.88235294, 0.83921569],\n",
              "         [0.8745098 , 0.8745098 , 0.82745098]],\n",
              "\n",
              "        [[0.07058824, 0.4627451 , 0.62745098],\n",
              "         [0.41176471, 0.61960784, 0.66666667],\n",
              "         [0.43921569, 0.66666667, 0.71372549],\n",
              "         ...,\n",
              "         [0.90980392, 0.88235294, 0.83137255],\n",
              "         [0.90588235, 0.87843137, 0.83921569],\n",
              "         [0.90196078, 0.87843137, 0.83529412]],\n",
              "\n",
              "        [[0.16862745, 0.46666667, 0.61176471],\n",
              "         [0.3254902 , 0.49411765, 0.4745098 ],\n",
              "         [0.42745098, 0.65882353, 0.70196078],\n",
              "         ...,\n",
              "         [0.90980392, 0.8745098 , 0.82352941],\n",
              "         [0.91372549, 0.87058824, 0.83137255],\n",
              "         [0.89803922, 0.8745098 , 0.83137255]],\n",
              "\n",
              "        ...,\n",
              "\n",
              "        [[0.01176471, 0.29019608, 0.43921569],\n",
              "         [0.01568627, 0.25882353, 0.41568627],\n",
              "         [0.00784314, 0.2627451 , 0.41176471],\n",
              "         ...,\n",
              "         [0.21960784, 0.4627451 , 0.54117647],\n",
              "         [0.23529412, 0.43529412, 0.49803922],\n",
              "         [0.        , 0.26666667, 0.4       ]],\n",
              "\n",
              "        [[0.        , 0.2745098 , 0.42745098],\n",
              "         [0.0745098 , 0.3372549 , 0.49019608],\n",
              "         [0.        , 0.25098039, 0.40392157],\n",
              "         ...,\n",
              "         [0.01176471, 0.26666667, 0.37647059],\n",
              "         [0.16862745, 0.43137255, 0.52941176],\n",
              "         [0.00392157, 0.25882353, 0.4       ]],\n",
              "\n",
              "        [[0.02352941, 0.29803922, 0.45490196],\n",
              "         [0.        , 0.25490196, 0.4       ],\n",
              "         [0.14509804, 0.39607843, 0.46666667],\n",
              "         ...,\n",
              "         [0.00392157, 0.25098039, 0.36078431],\n",
              "         [0.00784314, 0.26666667, 0.38431373],\n",
              "         [0.00784314, 0.20784314, 0.33333333]]],\n",
              "\n",
              "\n",
              "       [[[0.5254902 , 0.65882353, 0.72156863],\n",
              "         [0.28235294, 0.34509804, 0.38823529],\n",
              "         [0.57254902, 0.70196078, 0.76470588],\n",
              "         ...,\n",
              "         [0.76078431, 0.93333333, 1.        ],\n",
              "         [0.77254902, 0.95294118, 0.99607843],\n",
              "         [0.78823529, 0.96862745, 1.        ]],\n",
              "\n",
              "        [[0.3372549 , 0.34901961, 0.39215686],\n",
              "         [0.38431373, 0.48627451, 0.56078431],\n",
              "         [0.57647059, 0.70588235, 0.76862745],\n",
              "         ...,\n",
              "         [0.75686275, 0.9254902 , 1.        ],\n",
              "         [0.76470588, 0.94117647, 0.99607843],\n",
              "         [0.77254902, 0.94901961, 1.        ]],\n",
              "\n",
              "        [[0.31372549, 0.39607843, 0.45490196],\n",
              "         [0.29019608, 0.36078431, 0.38823529],\n",
              "         [0.45490196, 0.54509804, 0.60784314],\n",
              "         ...,\n",
              "         [0.74509804, 0.90980392, 1.        ],\n",
              "         [0.75686275, 0.92941176, 0.99607843],\n",
              "         [0.76470588, 0.94117647, 0.99607843]],\n",
              "\n",
              "        ...,\n",
              "\n",
              "        [[0.02745098, 0.02745098, 0.02745098],\n",
              "         [0.02745098, 0.02745098, 0.02745098],\n",
              "         [0.05490196, 0.05098039, 0.05882353],\n",
              "         ...,\n",
              "         [0.31764706, 0.36470588, 0.41176471],\n",
              "         [0.55686275, 0.68627451, 0.74901961],\n",
              "         [0.56862745, 0.69803922, 0.76078431]],\n",
              "\n",
              "        [[0.03529412, 0.03529412, 0.03529412],\n",
              "         [0.03529412, 0.03529412, 0.03529412],\n",
              "         [0.05098039, 0.05882353, 0.0627451 ],\n",
              "         ...,\n",
              "         [0.5254902 , 0.64313725, 0.70980392],\n",
              "         [0.33333333, 0.40784314, 0.42745098],\n",
              "         [0.35686275, 0.43137255, 0.4627451 ]],\n",
              "\n",
              "        [[0.03529412, 0.03529412, 0.03529412],\n",
              "         [0.1254902 , 0.14901961, 0.15294118],\n",
              "         [0.03921569, 0.03921569, 0.03921569],\n",
              "         ...,\n",
              "         [0.50196078, 0.61960784, 0.69411765],\n",
              "         [0.24705882, 0.29411765, 0.33333333],\n",
              "         [0.59607843, 0.7372549 , 0.80784314]]],\n",
              "\n",
              "\n",
              "       [[[0.18431373, 0.16470588, 0.16078431],\n",
              "         [0.29803922, 0.28627451, 0.29411765],\n",
              "         [0.80392157, 0.83137255, 0.84705882],\n",
              "         ...,\n",
              "         [0.07058824, 0.08235294, 0.05882353],\n",
              "         [0.21960784, 0.2745098 , 0.24313725],\n",
              "         [0.2       , 0.15294118, 0.1372549 ]],\n",
              "\n",
              "        [[0.16078431, 0.15294118, 0.16470588],\n",
              "         [0.45490196, 0.43529412, 0.42745098],\n",
              "         [0.8627451 , 0.81568627, 0.78823529],\n",
              "         ...,\n",
              "         [0.18039216, 0.18823529, 0.16470588],\n",
              "         [0.25490196, 0.29019608, 0.28627451],\n",
              "         [0.22745098, 0.18039216, 0.20784314]],\n",
              "\n",
              "        [[0.17254902, 0.17647059, 0.19215686],\n",
              "         [0.39607843, 0.38039216, 0.36078431],\n",
              "         [0.73333333, 0.67843137, 0.61568627],\n",
              "         ...,\n",
              "         [0.41568627, 0.41176471, 0.40392157],\n",
              "         [0.15686275, 0.16862745, 0.19607843],\n",
              "         [0.21568627, 0.17254902, 0.22352941]],\n",
              "\n",
              "        ...,\n",
              "\n",
              "        [[0.14117647, 0.16862745, 0.22745098],\n",
              "         [0.02352941, 0.11764706, 0.22745098],\n",
              "         [0.04705882, 0.12156863, 0.20392157],\n",
              "         ...,\n",
              "         [0.40784314, 0.37254902, 0.40784314],\n",
              "         [0.58823529, 0.56862745, 0.56862745],\n",
              "         [0.39607843, 0.45098039, 0.55686275]],\n",
              "\n",
              "        [[0.04313725, 0.08627451, 0.12156863],\n",
              "         [0.01176471, 0.0745098 , 0.13333333],\n",
              "         [0.04705882, 0.0745098 , 0.12156863],\n",
              "         ...,\n",
              "         [0.05098039, 0.05490196, 0.07058824],\n",
              "         [0.07058824, 0.05098039, 0.05490196],\n",
              "         [0.2745098 , 0.29411765, 0.36862745]],\n",
              "\n",
              "        [[0.09411765, 0.15294118, 0.16470588],\n",
              "         [0.10980392, 0.14901961, 0.17647059],\n",
              "         [0.09019608, 0.09803922, 0.11372549],\n",
              "         ...,\n",
              "         [0.11372549, 0.1372549 , 0.13333333],\n",
              "         [0.16862745, 0.15294118, 0.14901961],\n",
              "         [0.03529412, 0.04705882, 0.07058824]]],\n",
              "\n",
              "\n",
              "       ...,\n",
              "\n",
              "\n",
              "       [[[0.36078431, 0.37647059, 0.41568627],\n",
              "         [0.85882353, 0.84705882, 0.8745098 ],\n",
              "         [0.26666667, 0.25882353, 0.37254902],\n",
              "         ...,\n",
              "         [0.56470588, 0.45882353, 0.39607843],\n",
              "         [0.5372549 , 0.42352941, 0.3372549 ],\n",
              "         [0.3372549 , 0.65490196, 0.83529412]],\n",
              "\n",
              "        [[0.77254902, 0.76862745, 0.77254902],\n",
              "         [0.70196078, 0.69411765, 0.71764706],\n",
              "         [0.6       , 0.61176471, 0.64313725],\n",
              "         ...,\n",
              "         [0.6627451 , 0.54901961, 0.49411765],\n",
              "         [0.63921569, 0.5372549 , 0.4745098 ],\n",
              "         [0.40392157, 0.36470588, 0.4       ]],\n",
              "\n",
              "        [[0.87843137, 0.85882353, 0.87058824],\n",
              "         [0.86666667, 0.83921569, 0.84705882],\n",
              "         [0.85490196, 0.83529412, 0.83921569],\n",
              "         ...,\n",
              "         [0.18823529, 0.17647059, 0.15686275],\n",
              "         [0.15686275, 0.15686275, 0.17254902],\n",
              "         [0.09411765, 0.09803922, 0.10588235]],\n",
              "\n",
              "        ...,\n",
              "\n",
              "        [[0.50196078, 0.49019608, 0.50588235],\n",
              "         [0.41960784, 0.41960784, 0.43529412],\n",
              "         [0.45098039, 0.47058824, 0.50588235],\n",
              "         ...,\n",
              "         [0.14509804, 0.14509804, 0.14509804],\n",
              "         [0.1372549 , 0.1372549 , 0.1372549 ],\n",
              "         [0.12156863, 0.12156863, 0.12156863]],\n",
              "\n",
              "        [[0.48235294, 0.48235294, 0.51764706],\n",
              "         [0.47058824, 0.44705882, 0.45490196],\n",
              "         [0.54509804, 0.49803922, 0.51372549],\n",
              "         ...,\n",
              "         [0.09803922, 0.09803922, 0.09803922],\n",
              "         [0.1254902 , 0.1254902 , 0.1254902 ],\n",
              "         [0.1254902 , 0.13333333, 0.13333333]],\n",
              "\n",
              "        [[0.53333333, 0.5372549 , 0.52941176],\n",
              "         [0.43137255, 0.44313725, 0.44705882],\n",
              "         [0.43529412, 0.42352941, 0.42745098],\n",
              "         ...,\n",
              "         [0.11764706, 0.11764706, 0.11764706],\n",
              "         [0.10588235, 0.10588235, 0.10588235],\n",
              "         [0.1372549 , 0.1372549 , 0.1372549 ]]],\n",
              "\n",
              "\n",
              "       [[[0.11372549, 0.0627451 , 0.05490196],\n",
              "         [0.11372549, 0.06666667, 0.05882353],\n",
              "         [0.0745098 , 0.02745098, 0.02352941],\n",
              "         ...,\n",
              "         [0.31372549, 0.28235294, 0.23529412],\n",
              "         [0.34509804, 0.3372549 , 0.25882353],\n",
              "         [0.18823529, 0.17647059, 0.14509804]],\n",
              "\n",
              "        [[0.09411765, 0.0627451 , 0.04313725],\n",
              "         [0.11372549, 0.06666667, 0.05098039],\n",
              "         [0.08235294, 0.03137255, 0.01960784],\n",
              "         ...,\n",
              "         [0.32156863, 0.28627451, 0.24313725],\n",
              "         [0.34509804, 0.32941176, 0.25490196],\n",
              "         [0.18431373, 0.16862745, 0.14509804]],\n",
              "\n",
              "        [[0.07058824, 0.05882353, 0.02745098],\n",
              "         [0.10196078, 0.06666667, 0.03921569],\n",
              "         [0.09019608, 0.03921569, 0.01568627],\n",
              "         ...,\n",
              "         [0.32941176, 0.29411765, 0.25098039],\n",
              "         [0.3372549 , 0.31372549, 0.25490196],\n",
              "         [0.18039216, 0.15686275, 0.14901961]],\n",
              "\n",
              "        ...,\n",
              "\n",
              "        [[0.23529412, 0.21568627, 0.21176471],\n",
              "         [0.16470588, 0.16862745, 0.16078431],\n",
              "         [0.17647059, 0.15686275, 0.15686275],\n",
              "         ...,\n",
              "         [0.15686275, 0.1372549 , 0.17647059],\n",
              "         [0.22352941, 0.21176471, 0.22352941],\n",
              "         [0.23529412, 0.21960784, 0.24313725]],\n",
              "\n",
              "        [[0.34901961, 0.3254902 , 0.31764706],\n",
              "         [0.31764706, 0.30588235, 0.29411765],\n",
              "         [0.3254902 , 0.29411765, 0.29019608],\n",
              "         ...,\n",
              "         [0.24313725, 0.21176471, 0.23529412],\n",
              "         [0.28235294, 0.25098039, 0.25882353],\n",
              "         [0.28627451, 0.25098039, 0.26666667]],\n",
              "\n",
              "        [[0.41960784, 0.40392157, 0.38431373],\n",
              "         [0.43921569, 0.40392157, 0.38823529],\n",
              "         [0.44705882, 0.40392157, 0.38823529],\n",
              "         ...,\n",
              "         [0.37254902, 0.32156863, 0.31764706],\n",
              "         [0.37647059, 0.3254902 , 0.32156863],\n",
              "         [0.37647059, 0.31764706, 0.32941176]]],\n",
              "\n",
              "\n",
              "       [[[0.37647059, 0.40392157, 0.38431373],\n",
              "         [0.26666667, 0.29411765, 0.27058824],\n",
              "         [0.23529412, 0.26666667, 0.23921569],\n",
              "         ...,\n",
              "         [0.31764706, 0.58039216, 0.54901961],\n",
              "         [0.30588235, 0.54117647, 0.4745098 ],\n",
              "         [0.31372549, 0.60392157, 0.57254902]],\n",
              "\n",
              "        [[0.30196078, 0.32941176, 0.30980392],\n",
              "         [0.25882353, 0.28235294, 0.26666667],\n",
              "         [0.25098039, 0.28235294, 0.25490196],\n",
              "         ...,\n",
              "         [0.33333333, 0.60392157, 0.58431373],\n",
              "         [0.99215686, 0.94901961, 0.79607843],\n",
              "         [0.30588235, 0.67058824, 0.61176471]],\n",
              "\n",
              "        [[0.30980392, 0.3372549 , 0.31764706],\n",
              "         [0.2627451 , 0.29019608, 0.2627451 ],\n",
              "         [0.2745098 , 0.30196078, 0.2745098 ],\n",
              "         ...,\n",
              "         [0.36078431, 0.70588235, 0.64705882],\n",
              "         [0.36862745, 0.58039216, 0.49411765],\n",
              "         [0.30980392, 0.6627451 , 0.58823529]],\n",
              "\n",
              "        ...,\n",
              "\n",
              "        [[0.23921569, 0.32941176, 0.3372549 ],\n",
              "         [0.25098039, 0.34901961, 0.32941176],\n",
              "         [0.25098039, 0.39607843, 0.39607843],\n",
              "         ...,\n",
              "         [0.28235294, 0.59215686, 0.50588235],\n",
              "         [0.19607843, 0.44313725, 0.38431373],\n",
              "         [0.23921569, 0.48235294, 0.43921569]],\n",
              "\n",
              "        [[0.28235294, 0.40392157, 0.39215686],\n",
              "         [0.2627451 , 0.37647059, 0.36470588],\n",
              "         [0.40784314, 0.64313725, 0.61960784],\n",
              "         ...,\n",
              "         [0.1372549 , 0.35294118, 0.24705882],\n",
              "         [0.44705882, 0.6627451 , 0.6       ],\n",
              "         [0.43529412, 0.68627451, 0.61176471]],\n",
              "\n",
              "        [[0.32156863, 0.44313725, 0.44313725],\n",
              "         [0.32156863, 0.54509804, 0.50980392],\n",
              "         [0.35294118, 0.61176471, 0.61176471],\n",
              "         ...,\n",
              "         [0.27843137, 0.56078431, 0.47058824],\n",
              "         [0.14509804, 0.43137255, 0.34509804],\n",
              "         [0.32941176, 0.48627451, 0.41176471]]]])"
            ]
          },
          "metadata": {
            "tags": []
          },
          "execution_count": 28
        }
      ]
    },
    {
      "cell_type": "code",
      "metadata": {
        "id": "81c7c2d9"
      },
      "source": [
        ""
      ],
      "id": "81c7c2d9",
      "execution_count": null,
      "outputs": []
    },
    {
      "cell_type": "code",
      "metadata": {
        "id": "58f3d8b7"
      },
      "source": [
        "##Build simple artificial neural network for image classification"
      ],
      "id": "58f3d8b7",
      "execution_count": null,
      "outputs": []
    },
    {
      "cell_type": "code",
      "metadata": {
        "colab": {
          "base_uri": "https://localhost:8080/"
        },
        "id": "64e96a1d",
        "outputId": "e7cd7f3f-f9c6-47d7-d781-c1dff6be682e"
      },
      "source": [
        "ann = models.Sequential([\n",
        "        layers.Flatten(input_shape=(32,32,3)),\n",
        "        layers.Dense(3000, activation='relu'),\n",
        "        layers.Dense(1000, activation='relu'),\n",
        "        layers.Dense(10, activation='softmax')    \n",
        "    ])\n",
        "\n",
        "ann.compile(optimizer='SGD',\n",
        "              loss='sparse_categorical_crossentropy',\n",
        "              metrics=['accuracy'])\n",
        "\n",
        "ann.fit(X_train, y_train, epochs=15)"
      ],
      "id": "64e96a1d",
      "execution_count": null,
      "outputs": [
        {
          "output_type": "stream",
          "text": [
            "Epoch 1/15\n",
            "112/112 [==============================] - 9s 76ms/step - loss: 1.9880 - accuracy: 0.3014\n",
            "Epoch 2/15\n",
            "112/112 [==============================] - 8s 75ms/step - loss: 1.7246 - accuracy: 0.4170\n",
            "Epoch 3/15\n",
            "112/112 [==============================] - 8s 75ms/step - loss: 1.6266 - accuracy: 0.4470\n",
            "Epoch 4/15\n",
            "112/112 [==============================] - 8s 75ms/step - loss: 1.5428 - accuracy: 0.4853\n",
            "Epoch 5/15\n",
            "112/112 [==============================] - 8s 75ms/step - loss: 1.4835 - accuracy: 0.5108\n",
            "Epoch 6/15\n",
            "112/112 [==============================] - 8s 76ms/step - loss: 1.4249 - accuracy: 0.5343\n",
            "Epoch 7/15\n",
            "112/112 [==============================] - 9s 76ms/step - loss: 1.3823 - accuracy: 0.5477\n",
            "Epoch 8/15\n",
            "112/112 [==============================] - 9s 77ms/step - loss: 1.3410 - accuracy: 0.5654\n",
            "Epoch 9/15\n",
            "112/112 [==============================] - 9s 76ms/step - loss: 1.2805 - accuracy: 0.5858\n",
            "Epoch 10/15\n",
            "112/112 [==============================] - 8s 75ms/step - loss: 1.2301 - accuracy: 0.6073\n",
            "Epoch 11/15\n",
            "112/112 [==============================] - 8s 76ms/step - loss: 1.1847 - accuracy: 0.6247\n",
            "Epoch 12/15\n",
            "112/112 [==============================] - 9s 78ms/step - loss: 1.1308 - accuracy: 0.6502\n",
            "Epoch 13/15\n",
            "112/112 [==============================] - 8s 74ms/step - loss: 1.0994 - accuracy: 0.6499\n",
            "Epoch 14/15\n",
            "112/112 [==============================] - 8s 74ms/step - loss: 1.0533 - accuracy: 0.6720\n",
            "Epoch 15/15\n",
            "112/112 [==============================] - 8s 75ms/step - loss: 1.0090 - accuracy: 0.6997\n"
          ],
          "name": "stdout"
        },
        {
          "output_type": "execute_result",
          "data": {
            "text/plain": [
              "<tensorflow.python.keras.callbacks.History at 0x7f4d1500cb50>"
            ]
          },
          "metadata": {
            "tags": []
          },
          "execution_count": 29
        }
      ]
    },
    {
      "cell_type": "code",
      "metadata": {
        "colab": {
          "base_uri": "https://localhost:8080/"
        },
        "id": "598b55d2",
        "outputId": "b7ac9cc7-49d6-4471-820e-a4e0d306ee6f"
      },
      "source": [
        "from sklearn.metrics import confusion_matrix , classification_report\n",
        "import numpy as np\n",
        "y_pred = ann.predict(X_val)\n",
        "y_pred_classes = [np.argmax(element) for element in y_pred]\n",
        "#cm=confusion_matrix(y_val,y_pred)\n",
        "print(\"Classification Report: \\n\", classification_report(y_val, y_pred_classes))"
      ],
      "id": "598b55d2",
      "execution_count": null,
      "outputs": [
        {
          "output_type": "stream",
          "text": [
            "Classification Report: \n",
            "               precision    recall  f1-score   support\n",
            "\n",
            "           0       0.45      0.59      0.51       174\n",
            "           1       0.58      0.32      0.41       145\n",
            "           2       0.65      0.40      0.49       182\n",
            "           3       0.43      0.26      0.32       149\n",
            "           4       0.89      0.69      0.78       200\n",
            "           5       0.25      0.72      0.37       152\n",
            "           6       0.53      0.71      0.61       154\n",
            "           7       0.30      0.17      0.21       169\n",
            "           8       0.54      0.40      0.46       145\n",
            "           9       0.50      0.15      0.23        62\n",
            "\n",
            "    accuracy                           0.47      1532\n",
            "   macro avg       0.51      0.44      0.44      1532\n",
            "weighted avg       0.52      0.47      0.46      1532\n",
            "\n"
          ],
          "name": "stdout"
        }
      ]
    },
    {
      "cell_type": "code",
      "metadata": {
        "id": "9b0cc701"
      },
      "source": [
        "#Now let us build a convolutional neural network to train our images"
      ],
      "id": "9b0cc701",
      "execution_count": null,
      "outputs": []
    },
    {
      "cell_type": "code",
      "metadata": {
        "id": "5L9oNKDz7Dgy"
      },
      "source": [
        "cnn = models.Sequential([\n",
        "    layers.Conv2D(filters=32, kernel_size=(3, 3), activation='relu', input_shape=(32, 32, 3)),\n",
        "    layers.MaxPooling2D((2, 2)),\n",
        "    \n",
        "    layers.Conv2D(filters=64, kernel_size=(3, 3), activation='relu'),\n",
        "    layers.MaxPooling2D((2, 2)),\n",
        "    \n",
        "    layers.Flatten(),\n",
        "    layers.Dense(64, activation='relu'),\n",
        "    layers.Dense(10, activation='softmax')\n",
        "])"
      ],
      "id": "5L9oNKDz7Dgy",
      "execution_count": null,
      "outputs": []
    },
    {
      "cell_type": "code",
      "metadata": {
        "id": "9rY093B97OQW"
      },
      "source": [
        "cnn.compile(optimizer='adam',\n",
        "              loss='sparse_categorical_crossentropy',\n",
        "              metrics=['accuracy'])"
      ],
      "id": "9rY093B97OQW",
      "execution_count": null,
      "outputs": []
    },
    {
      "cell_type": "code",
      "metadata": {
        "colab": {
          "background_save": true,
          "base_uri": "https://localhost:8080/"
        },
        "id": "2xlNlab77XgL",
        "outputId": "e94e17e3-4121-49c7-a1c8-f204317aca93"
      },
      "source": [
        "cnn.fit(X_train, y_train, epochs=10)"
      ],
      "id": "2xlNlab77XgL",
      "execution_count": null,
      "outputs": [
        {
          "output_type": "stream",
          "text": [
            "Epoch 1/10\n",
            "112/112 [==============================] - 5s 40ms/step - loss: 1.9166 - accuracy: 0.3294\n",
            "Epoch 2/10\n",
            "112/112 [==============================] - 4s 40ms/step - loss: 1.5200 - accuracy: 0.4828\n",
            "Epoch 3/10\n",
            "112/112 [==============================] - 4s 40ms/step - loss: 1.3720 - accuracy: 0.5273\n",
            "Epoch 4/10\n",
            "112/112 [==============================] - 4s 39ms/step - loss: 1.2945 - accuracy: 0.5480\n",
            "Epoch 5/10\n",
            "112/112 [==============================] - 4s 39ms/step - loss: 1.1955 - accuracy: 0.5863\n",
            "Epoch 6/10\n",
            "112/112 [==============================] - 4s 39ms/step - loss: 1.1098 - accuracy: 0.6336\n",
            "Epoch 7/10\n",
            "112/112 [==============================] - 4s 39ms/step - loss: 1.0390 - accuracy: 0.6521\n",
            "Epoch 8/10\n",
            "112/112 [==============================] - 4s 39ms/step - loss: 0.9446 - accuracy: 0.6804\n",
            "Epoch 9/10\n",
            "112/112 [==============================] - 4s 39ms/step - loss: 0.8830 - accuracy: 0.7047\n",
            "Epoch 10/10\n",
            "112/112 [==============================] - 4s 39ms/step - loss: 0.7981 - accuracy: 0.7344\n"
          ],
          "name": "stdout"
        },
        {
          "output_type": "execute_result",
          "data": {
            "text/plain": [
              "<tensorflow.python.keras.callbacks.History at 0x7f4d13e35a50>"
            ]
          },
          "metadata": {
            "tags": []
          },
          "execution_count": 0
        }
      ]
    },
    {
      "cell_type": "code",
      "metadata": {
        "colab": {
          "base_uri": "https://localhost:8080/"
        },
        "id": "RFRoaIfI7wlI",
        "outputId": "56dac870-c3a1-46ca-8d53-6413ba7a8238"
      },
      "source": [
        "from sklearn.metrics import confusion_matrix , classification_report\n",
        "import numpy as np\n",
        "y_pred = ann.predict(X_val)\n",
        "y_pred_classes = [np.argmax(element) for element in y_pred]\n",
        "#cm=confusion_matrix(y_val,y_pred)\n",
        "print(\"Classification Report: \\n\", classification_report(y_val, y_pred_classes))"
      ],
      "id": "RFRoaIfI7wlI",
      "execution_count": null,
      "outputs": [
        {
          "output_type": "stream",
          "text": [
            "Classification Report: \n",
            "               precision    recall  f1-score   support\n",
            "\n",
            "           0       0.45      0.59      0.51       174\n",
            "           1       0.58      0.32      0.41       145\n",
            "           2       0.65      0.40      0.49       182\n",
            "           3       0.43      0.26      0.32       149\n",
            "           4       0.89      0.69      0.78       200\n",
            "           5       0.25      0.72      0.37       152\n",
            "           6       0.53      0.71      0.61       154\n",
            "           7       0.30      0.17      0.21       169\n",
            "           8       0.54      0.40      0.46       145\n",
            "           9       0.50      0.15      0.23        62\n",
            "\n",
            "    accuracy                           0.47      1532\n",
            "   macro avg       0.51      0.44      0.44      1532\n",
            "weighted avg       0.52      0.47      0.46      1532\n",
            "\n"
          ],
          "name": "stdout"
        }
      ]
    }
  ]
}